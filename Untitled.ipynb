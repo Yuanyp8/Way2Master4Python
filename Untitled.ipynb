{
 "cells": [
  {
   "cell_type": "code",
   "execution_count": 10,
   "id": "cutting-influence",
   "metadata": {},
   "outputs": [],
   "source": [
    "import sys"
   ]
  },
  {
   "cell_type": "code",
   "execution_count": null,
   "id": "outer-curve",
   "metadata": {},
   "outputs": [],
   "source": []
  },
  {
   "cell_type": "code",
   "execution_count": null,
   "id": "exciting-ghost",
   "metadata": {},
   "outputs": [],
   "source": [
    "\n"
   ]
  },
  {
   "cell_type": "code",
   "execution_count": 13,
   "id": "numeric-stephen",
   "metadata": {},
   "outputs": [],
   "source": []
  },
  {
   "cell_type": "code",
   "execution_count": null,
   "id": "embedded-overview",
   "metadata": {},
   "outputs": [],
   "source": []
  },
  {
   "cell_type": "code",
   "execution_count": 19,
   "id": "lesser-threshold",
   "metadata": {},
   "outputs": [
    {
     "name": "stdout",
     "output_type": "stream",
     "text": [
      "4\n"
     ]
    }
   ],
   "source": [
    "x = []  # 1\n",
    "y = x   # 2\n",
    "z = x   # 3\n",
    "print(sys.getrefcount(x))  # 4"
   ]
  },
  {
   "cell_type": "code",
   "execution_count": 20,
   "id": "analyzed-damage",
   "metadata": {},
   "outputs": [
    {
     "name": "stdout",
     "output_type": "stream",
     "text": [
      "4\n",
      "3\n",
      "2\n"
     ]
    }
   ],
   "source": [
    "import sys\n",
    "x = []  # 1\n",
    "y = x   # 2\n",
    "z = y   # 3\n",
    "print(sys.getrefcount(x))  # 4\n",
    "\n",
    "\n",
    "x = 1    # 引用计数减少\n",
    "print(sys.getrefcount(z))    # 此时z的引用计数应该为4-1\n",
    "\n",
    "y = 2\n",
    "print(sys.getrefcount(z))    # 此时z的引用计数应该为4-1-1"
   ]
  },
  {
   "cell_type": "code",
   "execution_count": 23,
   "id": "express-mortgage",
   "metadata": {},
   "outputs": [
    {
     "name": "stdout",
     "output_type": "stream",
     "text": [
      "4\n",
      "3\n",
      "[]\n"
     ]
    }
   ],
   "source": [
    "import sys\n",
    "x = []  # 1\n",
    "y = x   # 2\n",
    "z = y   # 3\n",
    "print(sys.getrefcount(x))  # 4\n",
    "x = 'abccc'\n",
    "print(sys.getrefcount(z))  # 4\n",
    "print(z)"
   ]
  },
  {
   "cell_type": "code",
   "execution_count": null,
   "id": "infectious-layer",
   "metadata": {},
   "outputs": [],
   "source": []
  }
 ],
 "metadata": {
  "kernelspec": {
   "display_name": "Python 3",
   "language": "python",
   "name": "python3"
  },
  "language_info": {
   "codemirror_mode": {
    "name": "ipython",
    "version": 3
   },
   "file_extension": ".py",
   "mimetype": "text/x-python",
   "name": "python",
   "nbconvert_exporter": "python",
   "pygments_lexer": "ipython3",
   "version": "3.9.0"
  }
 },
 "nbformat": 4,
 "nbformat_minor": 5
}
