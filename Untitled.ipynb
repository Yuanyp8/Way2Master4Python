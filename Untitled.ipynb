{
 "cells": [
  {
   "cell_type": "code",
   "execution_count": 10,
   "id": "powered-essence",
   "metadata": {},
   "outputs": [],
   "source": [
    "import sys"
   ]
  },
  {
   "cell_type": "code",
   "execution_count": null,
   "id": "expired-rating",
   "metadata": {},
   "outputs": [],
   "source": []
  },
  {
   "cell_type": "code",
   "execution_count": null,
   "id": "simplified-party",
   "metadata": {},
   "outputs": [],
   "source": [
    "\n"
   ]
  },
  {
   "cell_type": "code",
   "execution_count": 13,
   "id": "original-seeker",
   "metadata": {},
   "outputs": [],
   "source": []
  },
  {
   "cell_type": "code",
   "execution_count": null,
   "id": "tired-disease",
   "metadata": {},
   "outputs": [],
   "source": []
  },
  {
   "cell_type": "code",
   "execution_count": 19,
   "id": "chinese-while",
   "metadata": {},
   "outputs": [
    {
     "name": "stdout",
     "output_type": "stream",
     "text": [
      "4\n"
     ]
    }
   ],
   "source": [
    "x = []  # 1\n",
    "y = x   # 2\n",
    "z = x   # 3\n",
    "print(sys.getrefcount(x))  # 4"
   ]
  },
  {
   "cell_type": "code",
   "execution_count": 20,
   "id": "victorian-monthly",
   "metadata": {},
   "outputs": [
    {
     "name": "stdout",
     "output_type": "stream",
     "text": [
      "4\n",
      "3\n",
      "2\n"
     ]
    }
   ],
   "source": [
    "import sys\n",
    "x = []  # 1\n",
    "y = x   # 2\n",
    "z = y   # 3\n",
    "print(sys.getrefcount(x))  # 4\n",
    "\n",
    "\n",
    "x = 1    # 引用计数减少\n",
    "print(sys.getrefcount(z))    # 此时z的引用计数应该为4-1\n",
    "\n",
    "y = 2\n",
    "print(sys.getrefcount(z))    # 此时z的引用计数应该为4-1-1"
   ]
  },
  {
   "cell_type": "code",
   "execution_count": 23,
   "id": "worse-shock",
   "metadata": {},
   "outputs": [
    {
     "name": "stdout",
     "output_type": "stream",
     "text": [
      "4\n",
      "3\n",
      "[]\n"
     ]
    }
   ],
   "source": [
    "import sys\n",
    "x = []  # 1\n",
    "y = x   # 2\n",
    "z = y   # 3\n",
    "print(sys.getrefcount(x))  # 4\n",
    "x = 'abccc'\n",
    "print(sys.getrefcount(z))  # 4\n",
    "print(z)"
   ]
  },
  {
   "cell_type": "code",
   "execution_count": 27,
   "id": "rational-germany",
   "metadata": {},
   "outputs": [
    {
     "name": "stdout",
     "output_type": "stream",
     "text": [
      "   *\n",
      "  ***\n",
      " *****\n",
      "*******\n",
      " *****\n",
      "  ***\n",
      "   *\n"
     ]
    }
   ],
   "source": [
    "rows = 7\n",
    "for row in range(-(rows-1)//2, (rows+1)//2):\n",
    "    step = row if row > 0 else -row\n",
    "    print(' '*step + '*'*(rows-2*step))\n",
    "    "
   ]
  },
  {
   "cell_type": "code",
   "execution_count": 36,
   "id": "green-creature",
   "metadata": {},
   "outputs": [
    {
     "name": "stdout",
     "output_type": "stream",
     "text": [
      "  *  \n",
      " *** \n",
      "*****\n",
      " *** \n",
      "  *  \n"
     ]
    }
   ],
   "source": [
    "rows = 7\n",
    "for row in range(-(rows-1)//2, (rows+1)//2):\n",
    "    step = abs(row)\n",
    "    print('{:^{}}'.format('*'*(rows-2*step), rows))"
   ]
  },
  {
   "cell_type": "code",
   "execution_count": null,
   "id": "residential-observation",
   "metadata": {},
   "outputs": [],
   "source": [
    "row = 7\n"
   ]
  }
 ],
 "metadata": {
  "kernelspec": {
   "display_name": "Python 3",
   "language": "python",
   "name": "python3"
  },
  "language_info": {
   "codemirror_mode": {
    "name": "ipython",
    "version": 3
   },
   "file_extension": ".py",
   "mimetype": "text/x-python",
   "name": "python",
   "nbconvert_exporter": "python",
   "pygments_lexer": "ipython3",
   "version": "3.9.0"
  }
 },
 "nbformat": 4,
 "nbformat_minor": 5
}
